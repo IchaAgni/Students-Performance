{
  "cells": [
    {
      "cell_type": "markdown",
      "metadata": {},
      "source": [
        "# Proyek Akhir: Menyelesaikan Permasalahan Perusahaan Edutech"
      ]
    },
    {
      "cell_type": "markdown",
      "metadata": {
        "id": "FjgH3O1Tb74K"
      },
      "source": [
        "- Nama : Nisa Agni Afifah\n",
        "- Email : agniafifah21@gmail.com\n",
        "- Id Dicoding : ichaa_agni"
      ]
    },
    {
      "cell_type": "markdown",
      "metadata": {
        "id": "nzABIin1b74N"
      },
      "source": [
        "## Persiapan"
      ]
    },
    {
      "cell_type": "markdown",
      "metadata": {
        "id": "gq6w9ar6b74P"
      },
      "source": [
        "### Menyiapkan library yang dibutuhkan"
      ]
    },
    {
      "cell_type": "code",
      "execution_count": null,
      "metadata": {
        "id": "oQR3054Ob74Q"
      },
      "outputs": [
        {
          "ename": "",
          "evalue": "",
          "output_type": "error",
          "traceback": [
            "\u001b[1;31mFailed to start the Kernel. \n",
            "\u001b[1;31mUnable to start Kernel 'ds-expert' due to a timeout waiting for the ports to get used. \n",
            "\u001b[1;31mView Jupyter <a href='command:jupyter.viewOutput'>log</a> for further details."
          ]
        }
      ],
      "source": [
        "# Import semua library yang diperlukan\n",
        "import pandas as pd\n",
        "import numpy as np\n",
        "import matplotlib.pyplot as plt\n",
        "import seaborn as sns\n",
        "import sklearn\n",
        "import xgboost as xgb\n",
        "import joblib\n",
        "\n",
        "from sklearn.model_selection import train_test_split\n",
        "from sklearn.preprocessing import StandardScaler, LabelEncoder\n",
        "from sklearn.linear_model import LogisticRegression\n",
        "from sklearn.tree import DecisionTreeClassifier\n",
        "from sklearn.ensemble import RandomForestClassifier\n",
        "from sklearn.neighbors import KNeighborsClassifier\n",
        "from sklearn.svm import SVC\n",
        "from sklearn.metrics import accuracy_score, confusion_matrix, precision_score, recall_score, roc_curve, roc_auc_score, classification_report, f1_score\n",
        "from sklearn.metrics import classification_report, confusion_matrix, accuracy_score"
      ]
    },
    {
      "cell_type": "markdown",
      "metadata": {
        "id": "IyIo2Jzzb74T"
      },
      "source": [
        "### Menyiapkan data yang akan diguankan"
      ]
    },
    {
      "cell_type": "code",
      "execution_count": null,
      "metadata": {
        "id": "Hm_fd8mKeWrM"
      },
      "outputs": [],
      "source": [
        "students_df = pd.read_csv(\"data.csv\", sep=\";\")"
      ]
    },
    {
      "cell_type": "markdown",
      "metadata": {
        "id": "bJtzTfQXb74V"
      },
      "source": [
        "## Data Understanding"
      ]
    },
    {
      "cell_type": "code",
      "execution_count": null,
      "metadata": {},
      "outputs": [],
      "source": [
        "# Menampilkan 5 baris pertama dari dataframe\n",
        "students_df.head()"
      ]
    },
    {
      "cell_type": "code",
      "execution_count": null,
      "metadata": {},
      "outputs": [],
      "source": [
        "# Menampilkan jumlah baris & kolom dataframe\n",
        "students_df.shape"
      ]
    },
    {
      "cell_type": "code",
      "execution_count": null,
      "metadata": {
        "colab": {
          "base_uri": "https://localhost:8080/",
          "height": 1000
        },
        "id": "fx-oFNIEfik_",
        "outputId": "d2a959b0-5866-446c-a4ab-785a6876545b"
      },
      "outputs": [],
      "source": [
        "# Menampilkan tipe data dari variable dataframe\n",
        "students_df.dtypes"
      ]
    },
    {
      "cell_type": "code",
      "execution_count": null,
      "metadata": {
        "colab": {
          "base_uri": "https://localhost:8080/",
          "height": 175
        },
        "id": "all5-95jfvdG",
        "outputId": "01ab5d71-5a45-4594-8fb8-faab7ca5544f"
      },
      "outputs": [],
      "source": [
        "# Menampilkan statistik deskriptif dari dataframe\n",
        "students_df.describe(include='object')"
      ]
    },
    {
      "cell_type": "code",
      "execution_count": null,
      "metadata": {
        "colab": {
          "base_uri": "https://localhost:8080/",
          "height": 350
        },
        "id": "XOuPYjJwf61I",
        "outputId": "19b4ac68-c6e6-4aea-c392-89eed4d0a754"
      },
      "outputs": [],
      "source": [
        "students_df.describe()"
      ]
    },
    {
      "cell_type": "code",
      "execution_count": null,
      "metadata": {
        "colab": {
          "base_uri": "https://localhost:8080/"
        },
        "id": "3c4zwD6ZgOPL",
        "outputId": "3f2c147d-5421-4b18-c66b-019afe819a8c"
      },
      "outputs": [],
      "source": [
        "# Menampilkan jumlah data duplikat dari dataframe\n",
        "students_df.duplicated().sum()"
      ]
    },
    {
      "cell_type": "code",
      "execution_count": null,
      "metadata": {
        "colab": {
          "base_uri": "https://localhost:8080/",
          "height": 1000
        },
        "id": "B3ZxrZfGgW3n",
        "outputId": "3ff11905-641c-4fde-a59d-e3e1bf1fe485"
      },
      "outputs": [],
      "source": [
        "# Menampilkan missing value dari dataframe\n",
        "students_df.isna().sum()"
      ]
    },
    {
      "cell_type": "markdown",
      "metadata": {
        "id": "xnbUZGMmb74a"
      },
      "source": [
        "## Data Preparation / Preprocessing"
      ]
    },
    {
      "cell_type": "markdown",
      "metadata": {
        "id": "nW780pJ5gl6G"
      },
      "source": [
        "### Exploratory Data Analysis"
      ]
    },
    {
      "cell_type": "code",
      "execution_count": null,
      "metadata": {
        "colab": {
          "base_uri": "https://localhost:8080/",
          "height": 210
        },
        "id": "HHzlYAywb74c",
        "outputId": "e5af103e-0c72-4b4c-bf3d-1865459582b1"
      },
      "outputs": [],
      "source": [
        "# Menampilkan nilai unik dari kolom \"Status\"\n",
        "students_df['Status'].value_counts()"
      ]
    },
    {
      "cell_type": "code",
      "execution_count": null,
      "metadata": {
        "id": "QtVxTXcUhCM9"
      },
      "outputs": [],
      "source": [
        "students_df = students_df[students_df.Status!='Enrolled']"
      ]
    },
    {
      "cell_type": "code",
      "execution_count": null,
      "metadata": {
        "colab": {
          "base_uri": "https://localhost:8080/",
          "height": 521
        },
        "id": "C79WnKKPhLOc",
        "outputId": "a0ed7348-6cce-477d-a271-416ab0613f8d"
      },
      "outputs": [],
      "source": [
        "# Menampilkan distribusi kolom \"Status\" dalam bentuk pie chart\n",
        "status_counts = students_df['Status'].value_counts()\n",
        "labels = status_counts.index\n",
        "sizes = status_counts.values\n",
        "colors = sns.color_palette('pastel', len(labels))  # pindahkan ke bawah setelah 'labels'\n",
        "\n",
        "# Plotting\n",
        "plt.figure(figsize=(8, 6))\n",
        "plt.pie(sizes, labels=labels, colors=colors, startangle=90, autopct='%1.1f%%', textprops={'fontsize': 14})\n",
        "plt.title('Distribution of Status')\n",
        "plt.axis('equal')\n",
        "plt.show()"
      ]
    },
    {
      "cell_type": "code",
      "execution_count": null,
      "metadata": {},
      "outputs": [],
      "source": [
        "students_df['Status']=students_df['Status'].map({'Dropout':0,\n",
        "                                                 'Graduate':1\n",
        "})"
      ]
    },
    {
      "cell_type": "code",
      "execution_count": null,
      "metadata": {
        "colab": {
          "base_uri": "https://localhost:8080/",
          "height": 945
        },
        "id": "A1_yAkCXip15",
        "outputId": "6dff5977-bb8d-4a29-dd1f-f1fcabbba10b"
      },
      "outputs": [],
      "source": [
        "# Kolom numerik\n",
        "numerical_cols = students_df.select_dtypes(include=['int64', 'float64']).columns\n",
        "\n",
        "# Plot distribusi\n",
        "plt.figure(figsize=(15, 10))\n",
        "for i, col in enumerate(numerical_cols[:6]):\n",
        "    plt.subplot(2, 3, i+1)\n",
        "    sns.histplot(students_df[col], kde=True)\n",
        "    plt.title(f'Distribusi {col}')\n",
        "plt.tight_layout()\n",
        "plt.show()"
      ]
    },
    {
      "cell_type": "code",
      "execution_count": null,
      "metadata": {
        "colab": {
          "base_uri": "https://localhost:8080/",
          "height": 568
        },
        "id": "MIq1GdzHjRDu",
        "outputId": "e3e30853-d3d3-4071-c775-141e6225ffee"
      },
      "outputs": [],
      "source": [
        "# Kolom kategorikal\n",
        "categorical_cols = students_df.select_dtypes(include='object').columns\n",
        "\n",
        "# Plot frekuensi\n",
        "plt.figure(figsize=(15, 10))\n",
        "for i, col in enumerate(categorical_cols[:6]):\n",
        "    ax = plt.subplot(2, 3, i + 1)\n",
        "    students_df[col].value_counts().plot(kind='bar', ax=ax)\n",
        "    ax.set_title(f'Frekuensi {col}')\n",
        "    ax.tick_params(axis='x', rotation=45)\n",
        "\n",
        "plt.tight_layout()\n",
        "plt.show()"
      ]
    },
    {
      "cell_type": "code",
      "execution_count": null,
      "metadata": {
        "colab": {
          "base_uri": "https://localhost:8080/",
          "height": 1000
        },
        "id": "K_eQaT1FjsAz",
        "outputId": "b8d23289-c028-4779-fa68-4d022ac17c8d"
      },
      "outputs": [],
      "source": [
        "# Matriks korelasi\n",
        "plt.figure(figsize=(12, 8))\n",
        "corr_matrix = students_df.corr(numeric_only=True)\n",
        "sns.heatmap(corr_matrix, annot=True, fmt=\".2f\", cmap='coolwarm')\n",
        "plt.title(\"Matriks Korelasi\")\n",
        "plt.show()"
      ]
    },
    {
      "cell_type": "code",
      "execution_count": null,
      "metadata": {},
      "outputs": [],
      "source": [
        "# Menampilkan korelasi antara \"Status\" dan variabel lainnya\n",
        "students_df.corr()['Status']"
      ]
    },
    {
      "cell_type": "code",
      "execution_count": null,
      "metadata": {},
      "outputs": [],
      "source": [
        "# Menampilkan korelasi antara \"Status\" dan variabel lain dalam bentuk bar chart yang diurutkan secara Descending\n",
        "correlations = students_df.corr()['Status']\n",
        "sorted_corr = correlations.abs().sort_values(ascending=False)\n",
        "\n",
        "plt.figure(figsize=(15, 10))\n",
        "plt.bar(sorted_corr.index, sorted_corr.values)\n",
        "plt.xlabel('Features')\n",
        "plt.ylabel('Correlation with Status')\n",
        "plt.title('Features Sorted by Correlation with Status')\n",
        "plt.xticks(rotation=90)\n",
        "plt.show()"
      ]
    },
    {
      "cell_type": "code",
      "execution_count": null,
      "metadata": {},
      "outputs": [],
      "source": [
        "# Mengubah nilai beberapa variabel dari numerik menjadi string\n",
        "\n",
        "course_mapping = {\n",
        "        33: \"Biofuel Production Technologies\",\n",
        "        171: \"Animation and Multimedia Design\",\n",
        "        8014: \"Social Service (evening attendance)\",\n",
        "        9003: \"Agronomy\",\n",
        "        9070: \"Communication Design\",\n",
        "        9085: \"Veterinary Nursing\",\n",
        "        9119: \"Informatics Engineering\",\n",
        "        9130: \"Equinculture\",\n",
        "        9147: \"Management\",\n",
        "        9238: \"Social Service\",\n",
        "        9254: \"Tourism\",\n",
        "        9500: \"Nursing\",\n",
        "        9556: \"Oral Hygiene\",\n",
        "        9670: \"Advertising and Marketing Management\",\n",
        "        9773: \"Journalism and Communication\",\n",
        "        9853: \"Basic Education\",\n",
        "        9991: \"Management (evening attendance)\"\n",
        "}\n",
        "\n",
        "students_df['Gender'] = students_df['Gender'].astype(str).replace({'0': 'Male', '1': 'Female'})\n",
        "students_df['Displaced'] = students_df['Displaced'].astype(str).replace({'0': 'No', '1': 'Yes'})\n",
        "students_df['Debtor'] = students_df['Debtor'].astype(str).replace({'0': 'No', '1': 'Yes'})\n",
        "\n",
        "students_df['Course'] = students_df['Course'].replace(course_mapping).astype(str)\n",
        "le_course = LabelEncoder()\n",
        "students_df['Course'] = le_course.fit_transform(students_df['Course'])\n",
        "\n",
        "students_df['Scholarship_holder'] = students_df['Scholarship_holder'].astype(str).replace({'0': 'No', '1': 'Yes'})\n",
        "students_df['Tuition_fees_up_to_date'] = students_df['Tuition_fees_up_to_date'].astype(str).replace({'0': 'No', '1': 'Yes'})\n",
        "students_df['Daytime_evening_attendance'] = students_df['Daytime_evening_attendance'].astype(str).replace({'0': 'Evening', '1': 'Daytime'})\n",
        "students_df['Status'] = students_df['Status'].astype(str).replace({'0': 'Dropout', '1': 'Graduate'})"
      ]
    },
    {
      "cell_type": "code",
      "execution_count": null,
      "metadata": {},
      "outputs": [],
      "source": [
        "students_df.to_csv('data_clean.csv', index=False)"
      ]
    },
    {
      "cell_type": "markdown",
      "metadata": {
        "id": "LFSlzY-7b74d"
      },
      "source": [
        "## Modeling"
      ]
    },
    {
      "cell_type": "code",
      "execution_count": null,
      "metadata": {
        "id": "GRdGafUzkHMC"
      },
      "outputs": [],
      "source": [
        "# Definisikan kolom target\n",
        "\n",
        "target_col = 'Status'\n",
        "selected_features = [\n",
        "    'Course',\n",
        "    'Daytime_evening_attendance',\n",
        "    'Displaced',\n",
        "    'Debtor',\n",
        "    'Tuition_fees_up_to_date',\n",
        "    'Gender',\n",
        "    'Scholarship_holder',\n",
        "    'Age_at_enrollment',\n",
        "    'Curricular_units_1st_sem_credited',\n",
        "    'Curricular_units_1st_sem_enrolled',\n",
        "    'Curricular_units_1st_sem_approved',\n",
        "    'Curricular_units_1st_sem_grade',\n",
        "    'Curricular_units_2nd_sem_credited',\n",
        "    'Curricular_units_2nd_sem_enrolled',\n",
        "    'Curricular_units_2nd_sem_approved',\n",
        "    'Curricular_units_2nd_sem_grade'\n",
        "]\n",
        "\n",
        "df_selected = students_df[selected_features + [target_col]].copy()"
      ]
    },
    {
      "cell_type": "code",
      "execution_count": null,
      "metadata": {},
      "outputs": [],
      "source": [
        "# Pisahkan kolom kategorikal dan numerik dari fitur terpilih\n",
        "categorical_cols = df_selected.select_dtypes(include=['object']).columns.tolist()\n",
        "numerical_cols = df_selected.select_dtypes(include=['int64', 'float64']).columns.tolist()\n",
        "\n",
        "print(\"Kolom kategorikal:\", categorical_cols)\n",
        "print(\"Kolom numerik:\", numerical_cols)"
      ]
    },
    {
      "cell_type": "code",
      "execution_count": null,
      "metadata": {},
      "outputs": [],
      "source": [
        "# Encode kolom kategorikal\n",
        "\n",
        "encoders = {}\n",
        "\n",
        "for col in categorical_cols:\n",
        "    le = LabelEncoder()\n",
        "    df_selected[col] = le.fit_transform(df_selected[col])\n",
        "    encoders[col] = le"
      ]
    },
    {
      "cell_type": "code",
      "execution_count": null,
      "metadata": {},
      "outputs": [],
      "source": [
        "# Encode target kolom\n",
        "le_status = LabelEncoder()\n",
        "df_selected[target_col] = le_status.fit_transform(df_selected[target_col])\n",
        "encoders[target_col] = le_status"
      ]
    },
    {
      "cell_type": "code",
      "execution_count": null,
      "metadata": {},
      "outputs": [],
      "source": [
        "# Korelasi numerik\n",
        "corr_matrix = df_selected[numerical_cols + [target_col]].corr()\n",
        "plt.figure(figsize=(12, 8))\n",
        "sns.heatmap(corr_matrix, annot=True, cmap='coolwarm', center=0, fmt=\".2f\")\n",
        "plt.title(\"Korelasi Fitur Numerik dengan Target\")\n",
        "plt.show()"
      ]
    },
    {
      "cell_type": "code",
      "execution_count": null,
      "metadata": {},
      "outputs": [],
      "source": [
        "# Cek Multikolinearitas\n",
        "high_corr_pairs = (corr_matrix.abs() > 0.8) & (corr_matrix != 1.0)\n",
        "if high_corr_pairs.any().any():\n",
        "    print(\"\\n⚠️ Terdeteksi korelasi tinggi antar fitur:\")\n",
        "    print(corr_matrix[high_corr_pairs].stack())\n",
        "else:\n",
        "    print(\"\\n✅ Tidak ada multikolinearitas parah (korelasi > 0.8).\")"
      ]
    },
    {
      "cell_type": "code",
      "execution_count": null,
      "metadata": {},
      "outputs": [],
      "source": [
        "# Standarisasi numerik\n",
        "scaler = StandardScaler()\n",
        "df_selected[numerical_cols] = scaler.fit_transform(df_selected[numerical_cols])"
      ]
    },
    {
      "cell_type": "code",
      "execution_count": null,
      "metadata": {
        "id": "evgkAx60kSNb"
      },
      "outputs": [],
      "source": [
        "# Siapkan fitur dan target\n",
        "X = df_selected[selected_features].copy()\n",
        "y = df_selected[target_col].copy()\n",
        "\n",
        "# Standarisasi numerikal\n",
        "scaler = StandardScaler()\n",
        "X[numerical_cols] = scaler.fit_transform(X[numerical_cols])"
      ]
    },
    {
      "cell_type": "code",
      "execution_count": null,
      "metadata": {
        "colab": {
          "base_uri": "https://localhost:8080/"
        },
        "id": "p10wh8Jbb74e",
        "outputId": "24a98afb-9e73-41fc-e94d-7d0f7fb3bf4a"
      },
      "outputs": [],
      "source": [
        "# Split data\n",
        "X_train, X_test, y_train, y_test = train_test_split(\n",
        "    X, y, test_size=0.2, random_state=42, stratify=y\n",
        ")\n",
        "\n",
        "print(\"Jumlah data latih:\", X_train.shape)\n",
        "print(\"Jumlah data uji:\", X_test.shape)\n"
      ]
    },
    {
      "cell_type": "code",
      "execution_count": null,
      "metadata": {
        "id": "TIrW2EwkklZt"
      },
      "outputs": [],
      "source": [
        "# Melatih model\n",
        "models = {\n",
        "    'Logistic Regression': LogisticRegression(max_iter=1000),\n",
        "    'Decision Tree': DecisionTreeClassifier(),\n",
        "    'Random Forest': RandomForestClassifier(),\n",
        "    'KNN': KNeighborsClassifier(),\n",
        "    'SVM': SVC(),\n",
        "    'XGBoost': xgb.XGBClassifier(use_label_encoder=False, eval_metric='logloss')\n",
        "}"
      ]
    },
    {
      "cell_type": "code",
      "execution_count": null,
      "metadata": {},
      "outputs": [],
      "source": [
        "# Pelatihan dan evaluasi\n",
        "results = []\n",
        "trained_models = {}\n",
        "\n",
        "for name, model in models.items():\n",
        "    model.fit(X_train, y_train)\n",
        "    y_pred = model.predict(X_test)\n",
        "    acc = accuracy_score(y_test, y_pred)\n",
        "    report = classification_report(y_test, y_pred, output_dict=True, zero_division=0)\n",
        "\n",
        "    results.append({\n",
        "        \"Model\": name,\n",
        "        \"Akurasi\": acc,\n",
        "        \"Precision\": report['weighted avg']['precision'],\n",
        "        \"Recall\": report['weighted avg']['recall'],\n",
        "        \"F1-Score\": report['weighted avg']['f1-score']\n",
        "    })\n",
        "\n",
        "    trained_models[name] = model"
      ]
    },
    {
      "cell_type": "markdown",
      "metadata": {},
      "source": [
        "## Evaluation"
      ]
    },
    {
      "cell_type": "code",
      "execution_count": null,
      "metadata": {
        "colab": {
          "base_uri": "https://localhost:8080/"
        },
        "id": "RNGcyv9Nb74g",
        "outputId": "4799abcc-79f5-4aab-a365-ddb5365c6e4f"
      },
      "outputs": [],
      "source": [
        "# Tampilkan evaluasi dan pilih model terbaik\n",
        "results_df = pd.DataFrame(results)\n",
        "results_df = results_df.sort_values(by=\"Akurasi\", ascending=False).reset_index(drop=True)\n",
        "\n",
        "print(\"📊 Hasil Evaluasi Model:\\n\")\n",
        "print(results_df.to_string(index=False))\n",
        "\n",
        "best_model_name = results_df.iloc[0]['Model']\n",
        "best_model = trained_models[best_model_name]\n",
        "print(f\"\\n✅ Model terbaik adalah: {best_model_name} dengan akurasi: {results_df.iloc[0]['Akurasi']:.4f}\")"
      ]
    },
    {
      "cell_type": "markdown",
      "metadata": {
        "id": "5XnL6nu8mmWW"
      },
      "source": [
        "## Deployment\n"
      ]
    },
    {
      "cell_type": "code",
      "execution_count": null,
      "metadata": {
        "id": "kQIuc6hymqtO"
      },
      "outputs": [],
      "source": [
        "import os\n",
        "import joblib\n",
        "\n",
        "# Buat folder model jika belum ada\n",
        "os.makedirs(\"model\", exist_ok=True)\n",
        "\n",
        "# Simpan model, encoders, dan scaler (jika digunakan)\n",
        "model_data = {\n",
        "    \"model\": model,\n",
        "    \"encoders\": encoders,\n",
        "    \"scaler\": scaler,\n",
        "    \"categorical_cols\": categorical_cols,\n",
        "    \"numerical_cols\": numerical_cols,\n",
        "    \"feature_names\": X.columns.tolist()  # Untuk jaga urutan saat prediksi\n",
        "}\n",
        "\n",
        "# Simpan ke file .joblib\n",
        "joblib.dump(model_data, \"model/best_model.joblib\")\n",
        "\n",
        "print(\"\\n✅ Model, encoder, scaler berhasil disimpan ke model/best_model.joblib\")\n"
      ]
    }
  ],
  "metadata": {
    "colab": {
      "provenance": []
    },
    "kernelspec": {
      "display_name": "ds-expert",
      "language": "python",
      "name": "ds-expert"
    },
    "language_info": {
      "codemirror_mode": {
        "name": "ipython",
        "version": 3
      },
      "file_extension": ".py",
      "mimetype": "text/x-python",
      "name": "python",
      "nbconvert_exporter": "python",
      "pygments_lexer": "ipython3",
      "version": "3.12.4"
    },
    "orig_nbformat": 4
  },
  "nbformat": 4,
  "nbformat_minor": 0
}
